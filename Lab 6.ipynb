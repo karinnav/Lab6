{
 "cells": [
  {
   "cell_type": "markdown",
   "metadata": {},
   "source": [
    "# Lab 6"
   ]
  },
  {
   "cell_type": "markdown",
   "metadata": {},
   "source": [
    "For this lab, I needed to use the terminal to both get the reads file and also use bow tie and sam tools to manipulate it into a pileup file.  I used PuTTy to login to the host bioe131.com using my previous login information from bio.nixt.org.\n",
    "\n",
    "**Align the reads to the human genome:**\n",
    "In order to do this, I used the human genome as the database and the illumina reads fastq as the input reads.  The unaligned fastq file would contains all the reads that could not be matched up to the genome, which should be most of them.  I used the terminal command below:\n",
    "\n",
    "bowtie2 -p 4 --very-fast --no-unal -x /data/hg19/hg19 -U /data/lab6/illumina_reads.fastq -S humanoutput.sam --un humanunaligned.fastq\n",
    "\n",
    "**Output:**\n",
    "1124714 reads; of these:\n",
    "  1124714 (100.00%) were unpaired; of these:\n",
    "    1028379 (91.43%) aligned 0 times\n",
    "    87274 (7.76%) aligned exactly 1 time\n",
    "    9061 (0.81%) aligned >1 times\n",
    "8.57% overall alignment rate\n",
    "\n",
    "8.57% of my sequencing library cam from contaminating human DNA.\n"
   ]
  },
  {
   "cell_type": "markdown",
   "metadata": {},
   "source": [
    "**Align the reads to the S. ineidensis reference genome:**\n",
    "In order to do this, I used the S.oneidensis genome as the database and the illumina reads fastq as the input reads.  The unaligned fastq file would contains all the reads that could not be matched up to the genome.  These would be poor quality reads since they all should align.  I used the terminal command below:\n",
    "\n",
    "bowtie2 -p 4 --very-fast --no-unal -x /data/lab6/shewanella_oneidensis_mr-1 -U /data/lab6/illumina_reads.fastq -S SOoutput.sam --un SOunaligned.fastq\n",
    "\n",
    "**Output:**\n",
    "1124714 reads; of these:\n",
    "  1124714 (100.00%) were unpaired; of these:\n",
    "    395895 (35.20%) aligned 0 times\n",
    "    687571 (61.13%) aligned exactly 1 time\n",
    "    41248 (3.67%) aligned >1 times\n",
    "64.80% overall alignment rate\n",
    "\n",
    "35.20% of reads didn't align to the genome.  If I use the parameter very-sensitive, this percentage goes up. "
   ]
  },
  {
   "cell_type": "markdown",
   "metadata": {},
   "source": [
    "**Generating a coverage plot:**\n",
    "To generate a coverage plot, I need to use Sam tools to sort, index, and use depth to generate a file containing depth of coverage at each position.\n",
    "\n",
    "I used the terminal commands below:\n",
    "<img src=\"files/Lab6 terminal samtools.png\">\n",
    "\n",
    "Using this pileup file, I can plot results in a scatterplot and histogram.\n",
    "\n",
    "In order to minimize computing time, I found the number of lines in the tab file using terminals commands:\n",
    "<img src=\"files/Terminal line count.png\">\n"
   ]
  },
  {
   "cell_type": "code",
   "execution_count": 3,
   "metadata": {},
   "outputs": [
    {
     "data": {
      "image/png": "[encoded data removed]",
      "text/plain": [
       "<Figure size 432x288 with 1 Axes>"
      ]
     },
     "metadata": {},
     "output_type": "display_data"
    },
    {
     "name": "stdout",
     "output_type": "stream",
     "text": [
      "Stored 'DepthList' (list)\n"
     ]
    }
   ],
   "source": [
    "#<img src=\"files/Lab6 terminal bowtie.png\">\n",
    "%matplotlib inline\n",
    "import matplotlib.pyplot as plt\n",
    "import numpy as np\n",
    "from numpy.random import normal, rand\n",
    "\n",
    "oneidensis = open('SOpileup.tab')\n",
    "lineCount = 4969711  #As determined via terminal commands\n",
    "PosList = []\n",
    "DepthList = []\n",
    "\n",
    "for x in range(lineCount):\n",
    "    a = oneidensis.readline()\n",
    "    PosList.append(int(a.split()[1]))\n",
    "    DepthList.append(int(a.split()[2]))\n",
    "len(PosList)\n",
    "\n",
    "plt.scatter(PosList, DepthList)\n",
    "plt.title(\"S. oneidensis Read Alignment\")\n",
    "plt.xlabel(\"Position in Genome\")\n",
    "plt.ylabel(\"Depth of Coverage\")\n",
    "plt.xticks(np.arange(0, max(PosList), 1000000))\n",
    "plt.show()\n",
    "\n",
    "%store DepthList"
   ]
  },
  {
   "cell_type": "code",
   "execution_count": 5,
   "metadata": {
    "scrolled": false
   },
   "outputs": [
    {
     "name": "stdout",
     "output_type": "stream",
     "text": [
      "0\n",
      "269\n",
      "36\n"
     ]
    }
   ],
   "source": [
    "print(min(DepthList))\n",
    "print(max(DepthList))\n",
    "print(sum(DepthList)/4969711)"
   ]
  },
  {
   "cell_type": "markdown",
   "metadata": {},
   "source": [
    "The min, max, and mean of this distribution are 0, 269, and 36, respectively."
   ]
  },
  {
   "cell_type": "code",
   "execution_count": 5,
   "metadata": {},
   "outputs": [
    {
     "data": {
      "text/plain": [
       "Text(0.5,1,'S. oneidensis Depth of Coverage Distribution')"
      ]
     },
     "execution_count": 5,
     "metadata": {},
     "output_type": "execute_result"
    },
    {
     "data": {
      "image/png": "[encoded data removed]",
      "text/plain": [
       "<Figure size 432x288 with 1 Axes>"
      ]
     },
     "metadata": {},
     "output_type": "display_data"
    }
   ],
   "source": [
    "%matplotlib inline\n",
    "import matplotlib.pyplot as plt\n",
    "import numpy as np\n",
    "from numpy.random import normal, rand\n",
    "\n",
    "plt.hist(DepthList, range = (0,100), bins = 40)\n",
    "plt.ylabel(\"Count\")\n",
    "plt.xlabel(\"Depth of Coverage\")\n",
    "plt.title(\"S. oneidensis Depth of Coverage Distribution\")"
   ]
  },
  {
   "cell_type": "code",
   "execution_count": null,
   "metadata": {},
   "outputs": [],
   "source": []
  },
  {
   "cell_type": "code",
   "execution_count": null,
   "metadata": {},
   "outputs": [],
   "source": []
  }
 ],
 "metadata": {
  "kernelspec": {
   "display_name": "Python 2",
   "language": "python",
   "name": "python2"
  },
  "language_info": {
   "codemirror_mode": {
    "name": "ipython",
    "version": 2
   },
   "file_extension": ".py",
   "mimetype": "text/x-python",
   "name": "python",
   "nbconvert_exporter": "python",
   "pygments_lexer": "ipython2",
   "version": "2.7.15"
  }
 },
 "nbformat": 4,
 "nbformat_minor": 2
}
